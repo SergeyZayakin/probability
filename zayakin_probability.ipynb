{
 "cells": [
  {
   "cell_type": "markdown",
   "id": "ff890a02",
   "metadata": {},
   "source": [
    "## Игральные кости, орлянка, Колесо фортуны и русская рулетка   \n",
    "### Эксперименты с вероятностью:   "
   ]
  },
  {
   "cell_type": "markdown",
   "id": "e57ff9d8",
   "metadata": {},
   "source": [
    "1. [Частота выпадения сторон игрального кубика](#experiment_1)    \n",
    "1. [Частота выпадения сторон монеты](#experiment_2)   \n",
    "1. [Угадывание результата броска кубика (это уже почти казино)](#experiment_3)   \n",
    "1. [Игра в \"Русскую рулетку\" с Джокером (останься в живых)](#experiment_4)   \n",
    "1. [Колесо фортуны (делайте ваши ставки, господа!)](#experiment_5)   "
   ]
  },
  {
   "cell_type": "markdown",
   "id": "3269c7c3",
   "metadata": {
    "id": "3269c7c3"
   },
   "source": [
    "### Импорт необходимых библиотек "
   ]
  },
  {
   "cell_type": "code",
   "execution_count": null,
   "id": "2bf03de5",
   "metadata": {
    "executionInfo": {
     "elapsed": 936,
     "status": "ok",
     "timestamp": 1649321534896,
     "user": {
      "displayName": "Sergey Zayakin",
      "userId": "17467619407116699604"
     },
     "user_tz": -300
    },
    "id": "2bf03de5"
   },
   "outputs": [],
   "source": [
    "import random # Генератор случайных чисел\n",
    "from random import randint\n",
    "import pandas as pd\n",
    "# Визуализация\n",
    "from matplotlib import pyplot as plt\n",
    "import seaborn as sns\n",
    "from IPython.display import Image"
   ]
  },
  {
   "cell_type": "markdown",
   "id": "1b007027",
   "metadata": {
    "id": "1b007027"
   },
   "source": [
    "---"
   ]
  },
  {
   "cell_type": "markdown",
   "id": "335538ab",
   "metadata": {
    "id": "335538ab"
   },
   "source": [
    "### Эксперимент 1: Частота выпадения сторон игрального кубика <a id=\"experiment_1\"></a>"
   ]
  },
  {
   "cell_type": "code",
   "execution_count": null,
   "id": "9fc96e32",
   "metadata": {
    "executionInfo": {
     "elapsed": 7,
     "status": "ok",
     "timestamp": 1649321534896,
     "user": {
      "displayName": "Sergey Zayakin",
      "userId": "17467619407116699604"
     },
     "user_tz": -300
    },
    "id": "9fc96e32"
   },
   "outputs": [],
   "source": [
    "result = []\n",
    "count = 1000 # 1 тыс. бросков кубика\n",
    "for i in range(count):\n",
    "    i = randint(1, 6)\n",
    "    result.append(i)\n",
    "print(result[:50])"
   ]
  },
  {
   "cell_type": "code",
   "execution_count": null,
   "id": "f460fff7",
   "metadata": {
    "colab": {
     "base_uri": "https://localhost:8080/"
    },
    "executionInfo": {
     "elapsed": 7,
     "status": "ok",
     "timestamp": 1649321534896,
     "user": {
      "displayName": "Sergey Zayakin",
      "userId": "17467619407116699604"
     },
     "user_tz": -300
    },
    "id": "f460fff7",
    "outputId": "4b520499-e448-4f5c-e384-fe4653219f8f"
   },
   "outputs": [],
   "source": [
    "dots_1, dots_2, dots_3, dots_4, dots_5, dots_6 = 0, 0, 0, 0, 0, 0\n",
    "for elem in result:\n",
    "    if result[elem] == 1:\n",
    "        dots_1 += 1\n",
    "    elif result[elem] == 2:\n",
    "        dots_2 += 1\n",
    "    elif result[elem] == 3:\n",
    "        dots_3 += 1\n",
    "    elif result[elem] == 4:\n",
    "        dots_4 += 1\n",
    "    elif result[elem] == 5:\n",
    "        dots_5 += 1\n",
    "    elif result[elem] == 6:\n",
    "        dots_6 += 1\n",
    "dots = (dots_1, dots_2, dots_3, dots_4, dots_5, dots_6)\n",
    "print(dots)"
   ]
  },
  {
   "cell_type": "code",
   "execution_count": null,
   "id": "a5409b7e",
   "metadata": {
    "colab": {
     "base_uri": "https://localhost:8080/",
     "height": 238
    },
    "executionInfo": {
     "elapsed": 6,
     "status": "ok",
     "timestamp": 1649321534897,
     "user": {
      "displayName": "Sergey Zayakin",
      "userId": "17467619407116699604"
     },
     "user_tz": -300
    },
    "id": "a5409b7e",
    "outputId": "3fe0ed48-ac94-49e6-9c1f-5d601f4c1377"
   },
   "outputs": [],
   "source": [
    "list = {'Значение': ['1', '2', '3', '4', '5', '6'], 'Частота': [dots_1, dots_2, dots_3, dots_4, dots_5, dots_6]}\n",
    "dataframe = pd.DataFrame(list)\n",
    "display(dataframe)"
   ]
  },
  {
   "cell_type": "code",
   "execution_count": null,
   "id": "9724a267",
   "metadata": {
    "colab": {
     "base_uri": "https://localhost:8080/",
     "height": 372
    },
    "executionInfo": {
     "elapsed": 430,
     "status": "ok",
     "timestamp": 1649321535322,
     "user": {
      "displayName": "Sergey Zayakin",
      "userId": "17467619407116699604"
     },
     "user_tz": -300
    },
    "id": "9724a267",
    "outputId": "355c600f-bc49-43ae-cc80-a55445495433"
   },
   "outputs": [],
   "source": [
    "sns.set(rc={'figure.figsize':(10,5)})\n",
    "plt.xticks(rotation=0)\n",
    "sns.barplot(data=dataframe, x='Значение', y='Частота', palette='Blues_d').set_title(\"Частота выпадений значений\")"
   ]
  },
  {
   "cell_type": "markdown",
   "id": "a39391bc",
   "metadata": {
    "id": "a39391bc"
   },
   "source": [
    "---"
   ]
  },
  {
   "cell_type": "markdown",
   "id": "3e0050ca",
   "metadata": {
    "id": "3e0050ca"
   },
   "source": [
    "### Эксперимент 2: Частота выпадения сторон монеты <a id=\"experiment_2\"></a>"
   ]
  },
  {
   "cell_type": "code",
   "execution_count": null,
   "id": "236deb18",
   "metadata": {
    "executionInfo": {
     "elapsed": 1398,
     "status": "ok",
     "timestamp": 1649321536718,
     "user": {
      "displayName": "Sergey Zayakin",
      "userId": "17467619407116699604"
     },
     "user_tz": -300
    },
    "id": "236deb18"
   },
   "outputs": [],
   "source": [
    "result = []\n",
    "count = 1000000 # 1 млн бросков монеты\n",
    "for i in range(count):\n",
    "    i = randint(1, 2)\n",
    "    result.append(i)\n",
    "#print(result[:50])"
   ]
  },
  {
   "cell_type": "code",
   "execution_count": null,
   "id": "08985805",
   "metadata": {
    "colab": {
     "base_uri": "https://localhost:8080/"
    },
    "executionInfo": {
     "elapsed": 413,
     "status": "ok",
     "timestamp": 1649321537129,
     "user": {
      "displayName": "Sergey Zayakin",
      "userId": "17467619407116699604"
     },
     "user_tz": -300
    },
    "id": "08985805",
    "outputId": "e992a8f8-8113-48c3-a529-c2c23d2f6548"
   },
   "outputs": [],
   "source": [
    "eagle, tails =  0, 0\n",
    "for elem in result:\n",
    "    if result[elem] == 1:\n",
    "        eagle += 1\n",
    "    elif result[elem] == 2:\n",
    "        tails += 1\n",
    "sides = (eagle, tails)\n",
    "print(sides)"
   ]
  },
  {
   "cell_type": "code",
   "execution_count": null,
   "id": "998583ee",
   "metadata": {
    "colab": {
     "base_uri": "https://localhost:8080/",
     "height": 112
    },
    "executionInfo": {
     "elapsed": 5,
     "status": "ok",
     "timestamp": 1649321537130,
     "user": {
      "displayName": "Sergey Zayakin",
      "userId": "17467619407116699604"
     },
     "user_tz": -300
    },
    "id": "998583ee",
    "outputId": "4ef82c77-3618-4c51-967f-bbbd17b92e64"
   },
   "outputs": [],
   "source": [
    "list = {'Значение': ['Орёл', 'Решка'], 'Частота': [eagle, tails], 'Доля, %': [(eagle/count)*100, (tails/count)*100]}\n",
    "dataframe = pd.DataFrame(list)\n",
    "display(dataframe)"
   ]
  },
  {
   "cell_type": "code",
   "execution_count": null,
   "id": "6ad6e4f1",
   "metadata": {
    "colab": {
     "base_uri": "https://localhost:8080/",
     "height": 372
    },
    "executionInfo": {
     "elapsed": 290,
     "status": "ok",
     "timestamp": 1649321537416,
     "user": {
      "displayName": "Sergey Zayakin",
      "userId": "17467619407116699604"
     },
     "user_tz": -300
    },
    "id": "6ad6e4f1",
    "outputId": "702cf4cc-bc29-4b83-b140-4ec2d17d76cc"
   },
   "outputs": [],
   "source": [
    "sns.set(rc={'figure.figsize':(5,5)})\n",
    "plt.xticks(rotation=0)\n",
    "sns.barplot(data=dataframe, x='Значение', y='Частота', palette='Blues_d').set_title(\"Частота выпадений значений\")"
   ]
  },
  {
   "cell_type": "markdown",
   "id": "62T9vtOXVbtL",
   "metadata": {
    "id": "62T9vtOXVbtL"
   },
   "source": [
    "---"
   ]
  },
  {
   "cell_type": "markdown",
   "id": "2J-tXdQ3VfiA",
   "metadata": {
    "id": "2J-tXdQ3VfiA"
   },
   "source": [
    "### Эксперимент 3: Угадывание результата броска кубика <a id=\"experiment_3\"></a>"
   ]
  },
  {
   "cell_type": "markdown",
   "id": "r8uwpEECZMwF",
   "metadata": {
    "id": "r8uwpEECZMwF"
   },
   "source": [
    "У вас 5 попыток - бросков кубика.   \n",
    "Угадайте значение в диапазоне от 1 до 6.   \n",
    "После каждого введеного числа нажимайте Enter/"
   ]
  },
  {
   "cell_type": "code",
   "execution_count": null,
   "id": "hGXo9BphR-6U",
   "metadata": {
    "colab": {
     "base_uri": "https://localhost:8080/"
    },
    "executionInfo": {
     "elapsed": 14089,
     "status": "ok",
     "timestamp": 1649321551500,
     "user": {
      "displayName": "Sergey Zayakin",
      "userId": "17467619407116699604"
     },
     "user_tz": -300
    },
    "id": "hGXo9BphR-6U",
    "outputId": "90afdd56-01cf-4d28-ea66-4f39f14b38e8"
   },
   "outputs": [],
   "source": [
    "try_count = 0\n",
    "win_count = 0\n",
    "losse_count = 0\n",
    "error_count = 0\n",
    "while try_count < 5:\n",
    "    print('Введите любое число от 1 до 6')\n",
    "    data = input()\n",
    "    data = int(data)\n",
    "    if data < 1 or data > 6:\n",
    "      print('Введено некорректное число. Введите любое число от 1 до 6')\n",
    "      error_count += 1\n",
    "    else:\n",
    "      i = randint(1, 6)\n",
    "      if data == i:\n",
    "        print('Вы угадали!')\n",
    "        win_count += 1\n",
    "      else:\n",
    "        print('Вы проиграли!')\n",
    "        losse_count += 1\n",
    "    try_count += 1\n",
    "print('---')\n",
    "print('Попытки закончились')\n",
    "print('Число побед: ', win_count)\n",
    "print('Число пройгрышей: ', losse_count)\n",
    "print('Число некорректных значений: ', error_count)"
   ]
  },
  {
   "cell_type": "markdown",
   "id": "f1d5a15a",
   "metadata": {},
   "source": [
    "---"
   ]
  },
  {
   "cell_type": "markdown",
   "id": "ifsbT_mvcGqi",
   "metadata": {
    "id": "ifsbT_mvcGqi"
   },
   "source": [
    "### Эксперимент 4: Русская рулетка <a id=\"experiment_4\"></a>"
   ]
  },
  {
   "cell_type": "markdown",
   "id": "WAwrNU9WcNmH",
   "metadata": {
    "id": "WAwrNU9WcNmH"
   },
   "source": [
    "В барабане револьвера Джокера шесть патронов, но только один из них боевой.   \n",
    "Введите число от 1 до 6 выбрав ячейку барабана и жмите на курок (нажмите Enter)."
   ]
  },
  {
   "cell_type": "code",
   "execution_count": null,
   "id": "Chq3_rsFYIrm",
   "metadata": {
    "colab": {
     "base_uri": "https://localhost:8080/"
    },
    "id": "Chq3_rsFYIrm",
    "outputId": "8fdc7878-de65-48b9-d9ef-86432dc9b3a1"
   },
   "outputs": [],
   "source": [
    "print('Введите любое число от 1 до 6')\n",
    "data = input()\n",
    "data = int(data)\n",
    "if data < 1 or data > 6:\n",
    "    print('Введено некорректное число. Введите любое число от 1 до 6')\n",
    "else:\n",
    "    i = randint(1, 6)\n",
    "    if data == i:\n",
    "        print('Ты мертв! (неистовый смех)')\n",
    "        display(Image(url='https://i.gifer.com/6yN.gif', width = 200))\n",
    "    else:\n",
    "        print('Поздравляю ты жив! Попробуй ещё разок')\n",
    "        display(Image(url='https://i.gifer.com/HU6r.gif', width = 200))"
   ]
  },
  {
   "cell_type": "markdown",
   "id": "116a5b6e",
   "metadata": {},
   "source": [
    "---"
   ]
  },
  {
   "cell_type": "markdown",
   "id": "032395f9",
   "metadata": {},
   "source": [
    "### Эксперимент 5: Колесо фортуны<a id=\"experiment_5\"></a>"
   ]
  },
  {
   "cell_type": "markdown",
   "id": "31573e01",
   "metadata": {},
   "source": [
    "Сделайте три ставки -  введите любые три числа от 0 до 32, разделив их пробелами, и вращайте Колесо фортуны (нажмите Enter).   \n",
    "Испытайте свою удачу."
   ]
  },
  {
   "cell_type": "code",
   "execution_count": null,
   "id": "e88cb438",
   "metadata": {},
   "outputs": [],
   "source": [
    "print('Введите любые три числа от 0 до 32, разделив их пробелами')\n",
    "data = input()\n",
    "data = data.split()\n",
    "number_1 = int(data[0])\n",
    "number_2 = int(data[1])\n",
    "number_3 = int(data[2])\n",
    "if (number_1 < 0 or number_1 > 32) or (number_2 < 0 or number_2 > 32) or (number_3 < 0 or number_3 > 32):\n",
    "    print('Одно или несколько чисел не подходят под критерии. Начните заново.')\n",
    "else:\n",
    "    i = randint(0, 32)\n",
    "    if number_1 == i:\n",
    "        print('Поздравляю вы выйграли!')\n",
    "        print('Удачу вам принесло число ', i)\n",
    "        display(Image(url='https://i.gifer.com/7aLC.gif', width = 200))\n",
    "    elif number_2 == i:\n",
    "        print('Поздравляю вы выйграли!')\n",
    "        print('Удачным стало число ', i)\n",
    "        display(Image(url='https://i.gifer.com/BeZZ.gif', width = 200))\n",
    "    elif number_3 == i:\n",
    "        print('Поздравляю вы выйграли!')\n",
    "        print('Число ', i, ' принесло удачу')\n",
    "        display(Image(url='https://i.gifer.com/F6EB.gif', width = 200))\n",
    "    else:\n",
    "        print('Очень жаль, но вы проиграли! Попробуйте ещё раз.')\n",
    "        print('Выйграло число ', i)\n",
    "        display(Image(url='https://i.gifer.com/1bpS.gif', width = 200))"
   ]
  },
  {
   "cell_type": "markdown",
   "id": "59116b61",
   "metadata": {},
   "source": [
    "### Пока всё"
   ]
  }
 ],
 "metadata": {
  "colab": {
   "collapsed_sections": [],
   "name": "frequency.ipynb",
   "provenance": []
  },
  "kernelspec": {
   "display_name": "Python 3 (ipykernel)",
   "language": "python",
   "name": "python3"
  },
  "language_info": {
   "codemirror_mode": {
    "name": "ipython",
    "version": 3
   },
   "file_extension": ".py",
   "mimetype": "text/x-python",
   "name": "python",
   "nbconvert_exporter": "python",
   "pygments_lexer": "ipython3",
   "version": "3.9.7"
  }
 },
 "nbformat": 4,
 "nbformat_minor": 5
}
